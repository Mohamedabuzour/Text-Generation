{
 "cells": [
  {
   "cell_type": "markdown",
   "metadata": {
    "id": "WGyKZj3bzf9p"
   },
   "source": [
    "### Import TensorFlow and other libraries"
   ]
  },
  {
   "cell_type": "code",
   "execution_count": 80,
   "metadata": {
    "execution": {
     "iopub.execute_input": "2023-11-16T12:28:51.777470Z",
     "iopub.status.busy": "2023-11-16T12:28:51.777245Z",
     "iopub.status.idle": "2023-11-16T12:28:54.138340Z",
     "shell.execute_reply": "2023-11-16T12:28:54.137637Z"
    },
    "executionInfo": {
     "elapsed": 2980,
     "status": "ok",
     "timestamp": 1704570488852,
     "user": {
      "displayName": "Amit Work",
      "userId": "17596763332962778466"
     },
     "user_tz": -120
    },
    "id": "yG_n40gFzf9s"
   },
   "outputs": [],
   "source": [
    "import os\n",
    "import time\n",
    "import numpy as np\n",
    "import tensorflow as tf\n",
    "from warnings import filterwarnings\n",
    "filterwarnings(\"ignore\")"
   ]
  },
  {
   "cell_type": "markdown",
   "metadata": {
    "id": "yFRsDypALjS5"
   },
   "source": [
    "# Read the data"
   ]
  },
  {
   "cell_type": "code",
   "execution_count": 82,
   "metadata": {
    "executionInfo": {
     "elapsed": 1445,
     "status": "ok",
     "timestamp": 1704570490289,
     "user": {
      "displayName": "Amit Work",
      "userId": "17596763332962778466"
     },
     "user_tz": -120
    },
    "id": "7us4GP6dLltr"
   },
   "outputs": [],
   "source": [
    "text = open('shakespeare.txt', 'rb').read().decode(encoding='utf-8')"
   ]
  },
  {
   "cell_type": "code",
   "execution_count": 83,
   "metadata": {
    "executionInfo": {
     "elapsed": 10,
     "status": "ok",
     "timestamp": 1704570490290,
     "user": {
      "displayName": "Amit Work",
      "userId": "17596763332962778466"
     },
     "user_tz": -120
    },
    "id": "FQAIZDBqLX_7"
   },
   "outputs": [],
   "source": [
    "vocab = ['[UNK]'] + sorted(set(text)) # Create the vocabulary and add a token UNK that represents Unknown token."
   ]
  },
  {
   "cell_type": "markdown",
   "metadata": {
    "id": "0a18b4aa"
   },
   "source": [
    "# Process the text"
   ]
  },
  {
   "cell_type": "markdown",
   "metadata": {
    "id": "bd3a7917"
   },
   "source": [
    "- **Prepare the dependencies**"
   ]
  },
  {
   "cell_type": "code",
   "execution_count": 84,
   "metadata": {
    "executionInfo": {
     "elapsed": 9,
     "status": "ok",
     "timestamp": 1704570490290,
     "user": {
      "displayName": "Amit Work",
      "userId": "17596763332962778466"
     },
     "user_tz": -120
    },
    "id": "3m4M3foTd0Tz"
   },
   "outputs": [],
   "source": [
    "char_to_id = {c: i for i, c in enumerate(vocab)}\n",
    "id_to_char = {i: c for i, c in enumerate(vocab)}\n",
    "\n",
    "def id_from_char(chars):\n",
    "    return [char_to_id[c] for c in chars]\n",
    "\n",
    "def char_from_id(ids):\n",
    "    return [id_to_char[i] for i in ids]"
   ]
  },
  {
   "cell_type": "code",
   "execution_count": 85,
   "metadata": {
    "executionInfo": {
     "elapsed": 9,
     "status": "ok",
     "timestamp": 1704570490290,
     "user": {
      "displayName": "Amit Work",
      "userId": "17596763332962778466"
     },
     "user_tz": -120
    },
    "id": "Fm5gVFYekAjj"
   },
   "outputs": [],
   "source": [
    "def ids_from_chars(data):\n",
    "    return np.array([id_from_char(chars) for chars in data])\n",
    "\n",
    "def chars_from_ids(data):\n",
    "    return np.array([char_from_id(ids) for ids in data])"
   ]
  },
  {
   "cell_type": "code",
   "execution_count": 86,
   "metadata": {
    "executionInfo": {
     "elapsed": 8,
     "status": "ok",
     "timestamp": 1704570490290,
     "user": {
      "displayName": "Amit Work",
      "userId": "17596763332962778466"
     },
     "user_tz": -120
    },
    "id": "xqH3V8gwWWFC"
   },
   "outputs": [],
   "source": [
    "def slice_sentences(sentences):\n",
    "    return [list(sentence) for sentence in sentences]\n",
    "\n",
    "def construct_sentences(sentences):\n",
    "    return [\"\".join(sentence) for sentence in sentences]"
   ]
  },
  {
   "cell_type": "markdown",
   "metadata": {
    "id": "d857e5ef"
   },
   "source": [
    "### Create training examples and targets"
   ]
  },
  {
   "cell_type": "code",
   "execution_count": 87,
   "metadata": {
    "executionInfo": {
     "elapsed": 1994,
     "status": "ok",
     "timestamp": 1704570492276,
     "user": {
      "displayName": "Amit Work",
      "userId": "17596763332962778466"
     },
     "user_tz": -120
    },
    "id": "45799326"
   },
   "outputs": [],
   "source": [
    "sliced_text = list(text)\n",
    "all_ids = ids_from_chars(sliced_text)"
   ]
  },
  {
   "cell_type": "code",
   "execution_count": 88,
   "metadata": {
    "executionInfo": {
     "elapsed": 12,
     "status": "ok",
     "timestamp": 1704570492276,
     "user": {
      "displayName": "Amit Work",
      "userId": "17596763332962778466"
     },
     "user_tz": -120
    },
    "id": "3b61b12c"
   },
   "outputs": [],
   "source": [
    "seq_length = 100\n",
    "sequence_length = seq_length + 1\n",
    "sequences_num = len(all_ids) // sequence_length\n",
    "num_chars_to_take = sequence_length * sequences_num"
   ]
  },
  {
   "cell_type": "code",
   "execution_count": 89,
   "metadata": {
    "executionInfo": {
     "elapsed": 10,
     "status": "ok",
     "timestamp": 1704570492276,
     "user": {
      "displayName": "Amit Work",
      "userId": "17596763332962778466"
     },
     "user_tz": -120
    },
    "id": "660228fc"
   },
   "outputs": [],
   "source": [
    "ids_dataset = np.array(all_ids[:num_chars_to_take])"
   ]
  },
  {
   "cell_type": "code",
   "execution_count": 90,
   "metadata": {
    "executionInfo": {
     "elapsed": 11,
     "status": "ok",
     "timestamp": 1704570492277,
     "user": {
      "displayName": "Amit Work",
      "userId": "17596763332962778466"
     },
     "user_tz": -120
    },
    "id": "76ac7b9a"
   },
   "outputs": [],
   "source": [
    "sequences = ids_dataset.reshape((sequences_num, sequence_length))"
   ]
  },
  {
   "cell_type": "markdown",
   "metadata": {
    "id": "98d193d9"
   },
   "source": [
    "### Split data into X & y"
   ]
  },
  {
   "cell_type": "code",
   "execution_count": 91,
   "metadata": {
    "executionInfo": {
     "elapsed": 9,
     "status": "ok",
     "timestamp": 1704570492277,
     "user": {
      "displayName": "Amit Work",
      "userId": "17596763332962778466"
     },
     "user_tz": -120
    },
    "id": "V3ujGvBgR6dV"
   },
   "outputs": [],
   "source": [
    "def split(sequences):\n",
    "  X, y = [], []\n",
    "  for sequence in sequences:\n",
    "    X.append(sequence[:-1])\n",
    "    y.append(sequence[1:])\n",
    "  return np.array(X), np.array(y)"
   ]
  },
  {
   "cell_type": "code",
   "execution_count": 92,
   "metadata": {
    "executionInfo": {
     "elapsed": 8,
     "status": "ok",
     "timestamp": 1704570492277,
     "user": {
      "displayName": "Amit Work",
      "userId": "17596763332962778466"
     },
     "user_tz": -120
    },
    "id": "vz9EPDpSPiSG"
   },
   "outputs": [],
   "source": [
    "X, y = split(sequences)"
   ]
  },
  {
   "cell_type": "markdown",
   "metadata": {
    "id": "r6oUuElIMgVx"
   },
   "source": [
    "## Build The Model"
   ]
  },
  {
   "cell_type": "code",
   "execution_count": 93,
   "metadata": {
    "execution": {
     "iopub.execute_input": "2023-11-16T12:28:57.199659Z",
     "iopub.status.busy": "2023-11-16T12:28:57.199433Z",
     "iopub.status.idle": "2023-11-16T12:28:57.203643Z",
     "shell.execute_reply": "2023-11-16T12:28:57.203074Z"
    },
    "executionInfo": {
     "elapsed": 8,
     "status": "ok",
     "timestamp": 1704570492278,
     "user": {
      "displayName": "Amit Work",
      "userId": "17596763332962778466"
     },
     "user_tz": -120
    },
    "id": "zHT8cLh7EAsg"
   },
   "outputs": [],
   "source": [
    "EPOCHS = 20\n",
    "BATCH_SIZE = 64\n",
    "rnn_units = 1024\n",
    "embedding_dim = 256\n",
    "vocab_size = len(vocab)"
   ]
  },
  {
   "cell_type": "code",
   "execution_count": 94,
   "metadata": {
    "execution": {
     "iopub.execute_input": "2023-11-16T12:28:57.206868Z",
     "iopub.status.busy": "2023-11-16T12:28:57.206479Z",
     "iopub.status.idle": "2023-11-16T12:28:57.212069Z",
     "shell.execute_reply": "2023-11-16T12:28:57.211498Z"
    },
    "executionInfo": {
     "elapsed": 8,
     "status": "ok",
     "timestamp": 1704570492278,
     "user": {
      "displayName": "Amit Work",
      "userId": "17596763332962778466"
     },
     "user_tz": -120
    },
    "id": "wj8HQ2w8z4iO"
   },
   "outputs": [],
   "source": [
    "class MyModel(tf.keras.Model):\n",
    "  def __init__(self, vocab_size, embedding_dim, rnn_units):\n",
    "    super().__init__(self)\n",
    "    self.embedding = tf.keras.layers.Embedding(vocab_size, embedding_dim)\n",
    "    self.gru = tf.keras.layers.GRU(rnn_units, return_sequences=True, return_state=True)\n",
    "    self.dense = tf.keras.layers.Dense(vocab_size)\n",
    "\n",
    "  def call(self, inputs, states=None, return_state=False, training=False):\n",
    "    x = inputs\n",
    "    x = self.embedding(x, training=training)\n",
    "    if states is None:\n",
    "      states = self.gru.get_initial_state(x)\n",
    "    x, states = self.gru(x, initial_state=states, training=training)\n",
    "    x = self.dense(x, training=training)\n",
    "\n",
    "    if return_state:\n",
    "      return x, states\n",
    "    else:\n",
    "      return x"
   ]
  },
  {
   "cell_type": "code",
   "execution_count": 95,
   "metadata": {
    "execution": {
     "iopub.execute_input": "2023-11-16T12:28:57.215201Z",
     "iopub.status.busy": "2023-11-16T12:28:57.214660Z",
     "iopub.status.idle": "2023-11-16T12:28:57.230058Z",
     "shell.execute_reply": "2023-11-16T12:28:57.229421Z"
    },
    "executionInfo": {
     "elapsed": 1399,
     "status": "ok",
     "timestamp": 1704570493670,
     "user": {
      "displayName": "Amit Work",
      "userId": "17596763332962778466"
     },
     "user_tz": -120
    },
    "id": "IX58Xj9z47Aw"
   },
   "outputs": [],
   "source": [
    "model = MyModel(vocab_size=vocab_size, embedding_dim=embedding_dim, rnn_units=rnn_units)"
   ]
  },
  {
   "cell_type": "code",
   "execution_count": 96,
   "metadata": {
    "execution": {
     "iopub.execute_input": "2023-11-16T12:28:59.301864Z",
     "iopub.status.busy": "2023-11-16T12:28:59.301192Z",
     "iopub.status.idle": "2023-11-16T12:28:59.313047Z",
     "shell.execute_reply": "2023-11-16T12:28:59.312318Z"
    },
    "executionInfo": {
     "elapsed": 14,
     "status": "ok",
     "timestamp": 1704570493670,
     "user": {
      "displayName": "Amit Work",
      "userId": "17596763332962778466"
     },
     "user_tz": -120
    },
    "id": "vPGmAAXmVLGC"
   },
   "outputs": [],
   "source": [
    "# model.build(input_shape=(None, 100))\n",
    "# model.summary()"
   ]
  },
  {
   "cell_type": "code",
   "execution_count": 97,
   "metadata": {
    "executionInfo": {
     "elapsed": 13,
     "status": "ok",
     "timestamp": 1704570493671,
     "user": {
      "displayName": "Amit Work",
      "userId": "17596763332962778466"
     },
     "user_tz": -120
    },
    "id": "N4PITXSjTWLL"
   },
   "outputs": [],
   "source": [
    "loss = tf.losses.SparseCategoricalCrossentropy(from_logits=True)\n",
    "model.compile(optimizer='adam', loss=loss)"
   ]
  },
  {
   "cell_type": "code",
   "execution_count": 98,
   "metadata": {
    "colab": {
     "base_uri": "https://localhost:8080/"
    },
    "executionInfo": {
     "elapsed": 269547,
     "status": "ok",
     "timestamp": 1704570763206,
     "user": {
      "displayName": "Amit Work",
      "userId": "17596763332962778466"
     },
     "user_tz": -120
    },
    "id": "XS3cq0-BS1wL",
    "outputId": "4659f7df-0bb8-480e-c7f9-4f9e7167a9e5"
   },
   "outputs": [],
   "source": [
    "# history = model.fit(X, y, epochs=EPOCHS)"
   ]
  },
  {
   "cell_type": "markdown",
   "metadata": {
    "id": "82qUo24YXI6S"
   },
   "source": [
    "# Save the model"
   ]
  },
  {
   "cell_type": "code",
   "execution_count": 99,
   "metadata": {
    "executionInfo": {
     "elapsed": 26,
     "status": "ok",
     "timestamp": 1704570763207,
     "user": {
      "displayName": "Amit Work",
      "userId": "17596763332962778466"
     },
     "user_tz": -120
    },
    "id": "kuGwxL-azbEm"
   },
   "outputs": [],
   "source": [
    "# model.save_weights('my_weights.h5')"
   ]
  },
  {
   "cell_type": "markdown",
   "metadata": {
    "id": "7ysWs5OeXOh_"
   },
   "source": [
    "# Load the model"
   ]
  },
  {
   "cell_type": "code",
   "execution_count": 100,
   "metadata": {
    "executionInfo": {
     "elapsed": 8,
     "status": "ok",
     "timestamp": 1704570763208,
     "user": {
      "displayName": "Amit Work",
      "userId": "17596763332962778466"
     },
     "user_tz": -120
    },
    "id": "Sw-4oDw-XP6M"
   },
   "outputs": [],
   "source": [
    "model = MyModel(vocab_size=vocab_size, embedding_dim=embedding_dim, rnn_units=rnn_units)\n",
    "model.build(input_shape=(None, 100))\n",
    "model.load_weights('new_weights.h5')"
   ]
  },
  {
   "cell_type": "markdown",
   "metadata": {
    "id": "A_vb4SViYdsC"
   },
   "source": [
    "# Generate Text"
   ]
  },
  {
   "cell_type": "code",
   "execution_count": 101,
   "metadata": {
    "executionInfo": {
     "elapsed": 7,
     "status": "ok",
     "timestamp": 1704570763208,
     "user": {
      "displayName": "Amit Work",
      "userId": "17596763332962778466"
     },
     "user_tz": -120
    },
    "id": "JSQiWpocYfOR"
   },
   "outputs": [],
   "source": [
    "def softmax(logits):\n",
    "  return np.exp(logits) / np.exp(logits).sum()\n",
    "\n",
    "def generate_one_step(inputs, states=None):\n",
    "  chars = slice_sentences(inputs)\n",
    "  ids = ids_from_chars(chars)\n",
    "\n",
    "  pred_mask = np.zeros((len(vocab)))\n",
    "  pred_mask[0] = -float('inf')\n",
    "\n",
    "  pred, states = model(inputs=ids, states=states, return_state=True)\n",
    "  pred = pred.numpy()\n",
    "  pred = pred[:, -1, :]\n",
    "  pred = pred + pred_mask\n",
    "\n",
    "  prob = softmax(pred).flatten()\n",
    "  predicted_ids = np.random.choice(range(len(prob)), 1, p=prob)\n",
    "  predicted_char = char_from_id(predicted_ids)\n",
    "\n",
    "  return predicted_char, states"
   ]
  },
  {
   "cell_type": "code",
   "execution_count": 102,
   "metadata": {
    "executionInfo": {
     "elapsed": 6233,
     "status": "ok",
     "timestamp": 1704570769435,
     "user": {
      "displayName": "Amit Work",
      "userId": "17596763332962778466"
     },
     "user_tz": -120
    },
    "id": "veobfOYtaIU4"
   },
   "outputs": [],
   "source": [
    "states = None\n",
    "next_char = np.array([\"Romeo:\"])\n",
    "result = [next_char[0]]\n",
    "\n",
    "for n in range(1000):\n",
    "  next_char, states = generate_one_step(next_char, states=states)\n",
    "  result.append(next_char[0])\n",
    "\n",
    "result = construct_sentences([result])\n",
    "result = result[0]"
   ]
  },
  {
   "cell_type": "code",
   "execution_count": 103,
   "metadata": {
    "colab": {
     "base_uri": "https://localhost:8080/"
    },
    "executionInfo": {
     "elapsed": 19,
     "status": "ok",
     "timestamp": 1704570769436,
     "user": {
      "displayName": "Amit Work",
      "userId": "17596763332962778466"
     },
     "user_tz": -120
    },
    "id": "lA-yx5WmaoV-",
    "outputId": "a76936c2-6fde-412c-cccd-52e33904af8a"
   },
   "outputs": [
    {
     "name": "stdout",
     "output_type": "stream",
     "text": [
      "Romeo: canst thou utter 'Gains;\n",
      "But now mischance commund thee here and tell me\n",
      "As I intend against a boll word out.\n",
      "My queen and Henry living uncharms.\n",
      "Now, good ship warlike words will not yield.\n",
      "\n",
      "MENENIUS:\n",
      "What 'twas the gods that we met, my lord?\n",
      "\n",
      "AUFIDIUS:\n",
      "All this is lost, or else re'e blood devost\n",
      "In our about your company.\n",
      "\n",
      "POLIXENES:\n",
      "Sir, indeed.\n",
      "\n",
      "LEONTES:\n",
      "I think I thank you, sir. 'TRAnk me, you're more.\n",
      "\n",
      "AUTOLYCUS:\n",
      "No, holy fath, my humbly I must content;\n",
      "Come you to us, I'll vent to woo'r his happiness;\n",
      "'Twas yet a shower so loush'd to hear more\n",
      "joints worse pricts. Thou art not chose:\n",
      "Therefore, this is strange: let it be armied,\n",
      "Which sometill up and doubt, with't have you nield\n",
      "More greying drops imperting and put to death,\n",
      "Having but adoined it?\n",
      "For George and my lord, I hold it now;\n",
      "And, for I remember you with him!\n",
      "Travel your learness from the King of Hences,\n",
      "Who settled his court in Esseluty,\n",
      "And, then by rights with age, since is no grief it so:\n",
      "Lest who is left us to re\n"
     ]
    }
   ],
   "source": [
    "print(result)"
   ]
  },
  {
   "cell_type": "code",
   "execution_count": null,
   "metadata": {
    "executionInfo": {
     "elapsed": 14,
     "status": "ok",
     "timestamp": 1704570769436,
     "user": {
      "displayName": "Amit Work",
      "userId": "17596763332962778466"
     },
     "user_tz": -120
    },
    "id": "32CdNNOrPE9A"
   },
   "outputs": [],
   "source": []
  }
 ],
 "metadata": {
  "accelerator": "GPU",
  "colab": {
   "authorship_tag": "ABX9TyMiWmIrvjqK+3UZ708DldpY",
   "gpuType": "T4",
   "mount_file_id": "1RuirpL-XJMih98XplX5wCUqXw0lTcsIl",
   "provenance": []
  },
  "kernelspec": {
   "display_name": "Python 3 (ipykernel)",
   "language": "python",
   "name": "python3"
  },
  "language_info": {
   "codemirror_mode": {
    "name": "ipython",
    "version": 3
   },
   "file_extension": ".py",
   "mimetype": "text/x-python",
   "name": "python",
   "nbconvert_exporter": "python",
   "pygments_lexer": "ipython3",
   "version": "3.10.9"
  }
 },
 "nbformat": 4,
 "nbformat_minor": 1
}
